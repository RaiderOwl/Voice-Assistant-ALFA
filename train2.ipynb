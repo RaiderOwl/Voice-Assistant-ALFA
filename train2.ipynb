{
 "cells": [
  {
   "cell_type": "code",
   "execution_count": 13,
   "metadata": {},
   "outputs": [
    {
     "name": "stdout",
     "output_type": "stream",
     "text": [
      "                                    sentence  label\n",
      "0       11'yi 96'ye böl ve kalanı ekrana yaz      4\n",
      "1                     Brave programını kapat      3\n",
      "2  yılbaşı günüyisim doğum günü tarihi nedir      2\n",
      "3                           Bilge doğum günü      2\n",
      "4                            Bengü Hüp oynat      0\n"
     ]
    }
   ],
   "source": [
    "import pandas as pd\n",
    "data = pd.read_csv(\"Data\\data.csv\",sep=\",\",encoding=\"utf-8\")\n",
    "print(data.head())"
   ]
  },
  {
   "cell_type": "code",
   "execution_count": 4,
   "metadata": {},
   "outputs": [
    {
     "name": "stdout",
     "output_type": "stream",
     "text": [
      "0                  yi ye böl kalanı ekrana yaz\n",
      "1                       brave programını kapat\n",
      "2    yılbaşı günüyisim doğum günü tarihi nedir\n",
      "3                             bilge doğum günü\n",
      "4                              bengü hüp oynat\n",
      "Name: sentence, dtype: object\n",
      "0    4\n",
      "1    3\n",
      "2    2\n",
      "3    2\n",
      "4    0\n",
      "Name: label, dtype: int64\n"
     ]
    },
    {
     "name": "stderr",
     "output_type": "stream",
     "text": [
      "[nltk_data] Downloading package stopwords to\n",
      "[nltk_data]     C:\\Users\\akinb\\AppData\\Roaming\\nltk_data...\n",
      "[nltk_data]   Package stopwords is already up-to-date!\n"
     ]
    }
   ],
   "source": [
    "import nltk\n",
    "from nltk.corpus import stopwords \n",
    "\n",
    "nltk.download('stopwords')\n",
    "stop_word_list = stopwords.words('turkish')\n",
    "\n",
    "import re\n",
    "\n",
    "def preprocess_text(sen):\n",
    "    #sayıları silme\n",
    "    sentence = re.sub('[\\d\\s]',' ',str(sen))\n",
    "    #noktalama işaretlerini silme\n",
    "    sentence = re.sub('[^\\w\\s]',' ',str(sentence))\n",
    "    #birden çok boşluk silme\n",
    "    sentence = re.sub(r'\\s+',' ',sentence)\n",
    "    #tek karakterleri silme\n",
    "    sentence = re.sub(r\"\\b[\\w\\w]\\b\",' ',str(sentence))\n",
    "\n",
    "    #engellenecek kelimeleri silme\n",
    "    WPT = nltk.WordPunctTokenizer()\n",
    "    tokens = WPT.tokenize(sentence)\n",
    "    filtered_tokens = [token for token in tokens if token not in stop_word_list]\n",
    "    single_doc = ' '.join(filtered_tokens)\n",
    "\n",
    "    #hüçük harf dönüştürme\n",
    "    return single_doc.lower()\n",
    "\n",
    "x = data['sentence']\n",
    "y = data['label']\n",
    "\n",
    "x = x.apply(preprocess_text)\n",
    "\n",
    "print(x.head())\n",
    "print(y.head())"
   ]
  },
  {
   "cell_type": "code",
   "execution_count": 6,
   "metadata": {},
   "outputs": [],
   "source": [
    "from sklearn.feature_extraction.text import TfidfVectorizer\n",
    "\n",
    "vect = TfidfVectorizer(analyzer='word', lowercase=False)\n",
    "vect.fit(x)\n",
    "sent_vector = vect.transform(x)\n"
   ]
  },
  {
   "cell_type": "code",
   "execution_count": 7,
   "metadata": {},
   "outputs": [
    {
     "data": {
      "text/plain": [
       "['newsvmvectorizer.pkl']"
      ]
     },
     "execution_count": 7,
     "metadata": {},
     "output_type": "execute_result"
    }
   ],
   "source": [
    "import joblib\n",
    "joblib.dump(vect,\"newsvmvectorizer.pkl\")"
   ]
  },
  {
   "cell_type": "code",
   "execution_count": 8,
   "metadata": {},
   "outputs": [
    {
     "name": "stdout",
     "output_type": "stream",
     "text": [
      "  (0, 559)\t0.5543215829804151\n",
      "  (0, 516)\t0.46516169443164485\n",
      "  (0, 262)\t0.481782159353866\n",
      "  (0, 104)\t0.43326360471224296\n",
      "  (0, 64)\t0.23774099443648164\n",
      "  (1, 653)\t0.3056462303705505\n",
      "  (1, 636)\t0.4106205874041814\n",
      "  (1, 562)\t0.4106205874041814\n",
      "  (1, 303)\t0.34118089077541985\n",
      "  (1, 286)\t0.25803955256495853\n",
      "  (1, 183)\t0.6215891226057044\n",
      "  (2, 597)\t0.44097728026759825\n",
      "  (2, 134)\t0.8174565547971007\n",
      "  (2, 64)\t0.37054529993922036\n",
      "  (3, 667)\t0.5343678635984899\n",
      "  (3, 234)\t0.8452520253469883\n",
      "  (4, 554)\t0.3590477991449122\n",
      "  (4, 543)\t0.4179748301654555\n",
      "  (4, 435)\t0.2580828870451197\n",
      "  (4, 308)\t0.2360858811276036\n",
      "  (4, 295)\t0.4179748301654555\n",
      "  (4, 225)\t0.5747986718914231\n",
      "  (4, 189)\t0.26256794847053816\n",
      "  (5, 662)\t0.8570278316685895\n",
      "  (5, 541)\t0.5152701192049038\n",
      "  :\t:\n",
      "  (2445, 651)\t0.6659881135786343\n",
      "  (2445, 286)\t0.36665332559918024\n",
      "  (2445, 84)\t0.4831251698645332\n",
      "  (2446, 700)\t0.8339563149133267\n",
      "  (2446, 286)\t0.35492262870639996\n",
      "  (2446, 186)\t0.4225479765048263\n",
      "  (2447, 666)\t0.18632527389315678\n",
      "  (2447, 632)\t0.34334997939149875\n",
      "  (2447, 555)\t0.3986875824093674\n",
      "  (2447, 467)\t0.3986875824093674\n",
      "  (2447, 453)\t0.3986875824093674\n",
      "  (2447, 444)\t0.34334997939149875\n",
      "  (2447, 215)\t0.36709658424171393\n",
      "  (2447, 70)\t0.34334997939149875\n",
      "  (2448, 639)\t0.46326696248253924\n",
      "  (2448, 586)\t0.4213538712712404\n",
      "  (2448, 526)\t0.46326696248253924\n",
      "  (2448, 428)\t0.4213538712712404\n",
      "  (2448, 264)\t0.4213538712712404\n",
      "  (2448, 64)\t0.19532073222937787\n",
      "  (2449, 694)\t0.6656411989980315\n",
      "  (2449, 621)\t0.4538194957538579\n",
      "  (2449, 450)\t0.4578397834822254\n",
      "  (2449, 308)\t0.25137718760226624\n",
      "  (2449, 189)\t0.2795745011339578\n",
      "141     0\n",
      "2887    2\n",
      "1363    3\n",
      "2415    3\n",
      "2288    1\n",
      "       ..\n",
      "763     2\n",
      "835     2\n",
      "1653    0\n",
      "2607    0\n",
      "2732    1\n",
      "Name: label, Length: 2450, dtype: int64\n"
     ]
    }
   ],
   "source": [
    "from sklearn.model_selection import train_test_split\n",
    "\n",
    "x_train,x_test,y_train,y_test = train_test_split(sent_vector,y,test_size=0.2,random_state=0)\n",
    "print(x_train)\n",
    "print(y_train)"
   ]
  },
  {
   "cell_type": "code",
   "execution_count": 9,
   "metadata": {},
   "outputs": [
    {
     "data": {
      "text/plain": [
       "['newsvcmodel.pkl']"
      ]
     },
     "execution_count": 9,
     "metadata": {},
     "output_type": "execute_result"
    }
   ],
   "source": [
    "from sklearn.svm import SVC\n",
    "import joblib\n",
    "\n",
    "# Başarı oranının değiştiği gözlemlenecektir. ( ‘linear’, ‘poly’, ‘rbf’, ‘sigmoid’ )\n",
    "svc = SVC(C=0.5,kernel='linear')\n",
    "\n",
    "svc.fit(x_train,y_train)\n",
    "joblib.dump(svc, \"newsvcmodel.pkl\")"
   ]
  },
  {
   "cell_type": "code",
   "execution_count": 10,
   "metadata": {},
   "outputs": [
    {
     "name": "stdout",
     "output_type": "stream",
     "text": [
      "  (0, 645)\t0.516480353170578\n",
      "  (0, 496)\t0.516480353170578\n",
      "  (0, 465)\t0.2897067310860404\n",
      "  (0, 272)\t0.6185192798458515\n",
      "  (1, 635)\t0.2973088530121742\n",
      "  (1, 629)\t0.3558459954061369\n",
      "  (1, 623)\t0.41441949218327057\n",
      "  (1, 334)\t0.45611679878304234\n",
      "  (1, 209)\t0.49480859183139453\n",
      "  (1, 119)\t0.4004490994999277\n",
      "  (2, 597)\t0.44845848541624983\n",
      "  (2, 438)\t0.7373050509521475\n",
      "  (2, 340)\t0.5052388036350874\n",
      "  (3, 670)\t0.8509100913988512\n",
      "  (3, 635)\t0.5253113518244189\n",
      "  (4, 666)\t0.3118492956840067\n",
      "  (4, 420)\t0.4872367817886834\n",
      "  (4, 318)\t0.6049255058451385\n",
      "  (4, 109)\t0.54718869472203\n",
      "  (5, 621)\t0.46031025757900984\n",
      "  (5, 450)\t0.46438804554779806\n",
      "  (5, 308)\t0.2549725145290931\n",
      "  (5, 189)\t0.2835731206649055\n",
      "  (5, 159)\t0.6534780118649137\n",
      "  (6, 706)\t0.42500402104348617\n",
      "  :\t:\n",
      "  (608, 118)\t0.46152360987170726\n",
      "  (608, 90)\t0.46152360987170726\n",
      "  (608, 64)\t0.1979412047729903\n",
      "  (608, 18)\t0.4011278798874378\n",
      "  (609, 682)\t0.546399452727346\n",
      "  (609, 666)\t0.2553579097428686\n",
      "  (609, 366)\t0.546399452727346\n",
      "  (609, 128)\t0.3932315091782197\n",
      "  (609, 6)\t0.42785113560640003\n",
      "  (610, 635)\t0.29978398879977747\n",
      "  (610, 629)\t0.3588084606983122\n",
      "  (610, 435)\t0.2948875273801543\n",
      "  (610, 333)\t0.5892484173870225\n",
      "  (610, 120)\t0.5892484173870225\n",
      "  (611, 653)\t0.34726423852786276\n",
      "  (611, 286)\t0.5863504916969171\n",
      "  (611, 216)\t0.5265705373636448\n",
      "  (611, 149)\t0.5082559578667124\n",
      "  (612, 677)\t0.43034729160779556\n",
      "  (612, 589)\t0.45505309022139995\n",
      "  (612, 561)\t0.33124523298332575\n",
      "  (612, 435)\t0.2333544638429531\n",
      "  (612, 287)\t0.3864977356391476\n",
      "  (612, 207)\t0.43034729160779556\n",
      "  (612, 84)\t0.33010739535464223\n"
     ]
    }
   ],
   "source": [
    "print(x_test)"
   ]
  },
  {
   "cell_type": "code",
   "execution_count": 11,
   "metadata": {},
   "outputs": [
    {
     "name": "stdout",
     "output_type": "stream",
     "text": [
      "[0 4 3 4 0 1 1 3 1 3 3 3 3 0 4 0 4 0 1 0 1 3 3 4 2 4 3 3 0 1 4 1 1 2 4 3 4\n",
      " 3 0 0 3 4 4 4 2 0 4 3 3 1 3 4 4 4 3 4 2 0 0 3 1 1 2 0 3 0 2 0 0 0 0 1 4 1\n",
      " 4 4 3 0 2 0 3 1 3 3 1 2 2 3 0 0 0 3 0 1 3 3 1 0 2 3 4 1 2 1 3 0 1 3 1 4 0\n",
      " 4 0 1 0 4 0 0 3 0 1 2 1 0 3 3 1 0 3 1 1 0 0 3 0 3 0 0 1 0 4 1 1 2 3 1 2 2\n",
      " 4 3 2 3 3 0 0 0 3 0 3 0 0 0 0 3 0 2 4 4 1 3 1 2 4 3 2 0 3 3 0 4 3 0 0 4 0\n",
      " 3 3 2 4 0 2 3 3 3 2 0 0 0 1 3 2 4 0 0 4 4 0 2 2 2 4 0 1 4 0 2 1 0 1 0 4 1\n",
      " 3 0 1 0 4 4 4 4 3 4 0 3 1 3 1 2 0 3 3 0 3 1 3 4 3 3 3 2 0 3 0 4 0 1 0 1 3\n",
      " 0 3 4 1 3 2 3 3 3 0 2 3 1 2 3 2 3 1 1 4 0 2 2 3 1 0 2 2 0 4 0 4 2 3 3 2 3\n",
      " 4 0 0 2 2 2 1 0 1 0 2 0 0 2 0 4 4 0 4 1 4 1 4 3 4 3 1 1 3 0 3 1 0 3 4 4 3\n",
      " 2 0 0 1 1 1 1 0 3 4 0 1 2 1 4 3 1 1 2 3 1 2 3 0 3 3 1 0 4 2 0 0 4 1 2 0 1\n",
      " 2 0 1 0 3 3 0 0 0 3 0 0 0 4 2 0 0 2 0 3 1 0 3 4 3 2 0 2 4 3 3 1 3 1 4 1 0\n",
      " 0 0 0 4 2 3 1 0 0 1 4 1 1 4 1 4 4 0 1 3 0 2 3 0 2 2 3 1 2 1 3 4 4 1 0 0 3\n",
      " 1 3 0 2 2 2 0 0 1 0 1 1 1 4 4 4 2 3 3 1 3 0 1 0 0 1 3 4 3 0 4 1 2 3 1 2 3\n",
      " 0 0 4 2 0 0 0 4 4 1 2 1 1 4 3 0 0 3 2 3 3 0 0 1 4 1 0 0 2 1 3 4 1 1 0 4 3\n",
      " 4 0 0 3 1 3 0 4 1 4 0 3 2 3 1 1 0 4 2 0 3 1 0 2 3 2 3 0 2 1 4 0 4 1 2 1 2\n",
      " 4 2 1 0 4 3 3 0 3 2 0 0 2 4 1 2 2 1 4 0 1 4 0 3 3 4 0 3 4 2 3 2 0 3 0 4 0\n",
      " 2 0 1 4 1 1 3 3 2 1 3 0 3 0 4 1 0 0 4 2 2]\n"
     ]
    }
   ],
   "source": [
    "resultsvm = svc.predict(x_test)\n",
    "print(resultsvm)"
   ]
  },
  {
   "cell_type": "code",
   "execution_count": 12,
   "metadata": {},
   "outputs": [
    {
     "name": "stdout",
     "output_type": "stream",
     "text": [
      "0.9999972943722945\n",
      "0.9967373572593801\n"
     ]
    },
    {
     "data": {
      "text/plain": [
       "(0.9976047904191617, 0.9963242375601926, 0.9969483913419304, None)"
      ]
     },
     "execution_count": 12,
     "metadata": {},
     "output_type": "execute_result"
    }
   ],
   "source": [
    "from sklearn.metrics import accuracy_score\n",
    "from sklearn.metrics import precision_recall_fscore_support\n",
    "from sklearn.linear_model import LogisticRegression\n",
    "from sklearn.metrics import roc_auc_score\n",
    "\n",
    "clf = LogisticRegression(solver=\"liblinear\").fit(x_train, y_train)\n",
    "aucsvm = roc_auc_score(y_test, clf.predict_proba(x_test), multi_class='ovr')\n",
    "print(aucsvm)\n",
    "accsvm = accuracy_score(y_test,resultsvm)\n",
    "print(accsvm)\n",
    "\n",
    "precision_recall_fscore_support(y_test, resultsvm, average='macro')"
   ]
  },
  {
   "cell_type": "code",
   "execution_count": null,
   "metadata": {},
   "outputs": [],
   "source": []
  }
 ],
 "metadata": {
  "kernelspec": {
   "display_name": "Python 3",
   "language": "python",
   "name": "python3"
  },
  "language_info": {
   "codemirror_mode": {
    "name": "ipython",
    "version": 3
   },
   "file_extension": ".py",
   "mimetype": "text/x-python",
   "name": "python",
   "nbconvert_exporter": "python",
   "pygments_lexer": "ipython3",
   "version": "3.11.3"
  }
 },
 "nbformat": 4,
 "nbformat_minor": 2
}
