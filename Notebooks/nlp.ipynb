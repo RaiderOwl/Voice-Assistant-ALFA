{
 "cells": [
  {
   "cell_type": "code",
   "execution_count": 1,
   "metadata": {},
   "outputs": [],
   "source": [
    "import numpy as np\n",
    "import pandas as pd\n",
    "import nltk\n",
    "from nltk.corpus import stopwords\n",
    "import matplotlib.pyplot as plt\n",
    "from nltk.stem import WordNetLemmatizer\n",
    "from sklearn.feature_extraction.text import CountVectorizer\n",
    "import pickle\n",
    "import time\n",
    "import re"
   ]
  },
  {
   "cell_type": "code",
   "execution_count": 5,
   "metadata": {},
   "outputs": [
    {
     "name": "stdout",
     "output_type": "stream",
     "text": [
      "   idx                                            premise  \\\n",
      "0    0  Attaki bir kişi, bozuk bir uçağın üzerinden at...   \n",
      "1    1  Attaki bir kişi, bozuk bir uçağın üzerinden at...   \n",
      "2    2  Attaki bir kişi, bozuk bir uçağın üzerinden at...   \n",
      "3    3  Fotoğraf makinesinde gülümseyen ve sallayan ço...   \n",
      "4    4  Fotoğraf makinesinde gülümseyen ve sallayan ço...   \n",
      "\n",
      "                                     hypothesis  label  \n",
      "0         Bir kişi atını yarışma için eğitiyor.      1  \n",
      "1  Bir kişi bir lokantada omlet sipariş ediyor.      2  \n",
      "2            Bir kişi açık havada, at üzerinde.      0  \n",
      "3                     Ailelerine gülümsüyorlar.      1  \n",
      "4                          Burada çocuklar var.      0  \n",
      "   idx                                            premise  \\\n",
      "0    0  Bu kilise korosu, kilisedeki kitaptan neşeli ş...   \n",
      "1    1  Bu kilise korosu, kilisedeki kitaptan neşeli ş...   \n",
      "2    2  Bu kilise korosu, kilisedeki kitaptan neşeli ş...   \n",
      "3    3  Yeşil başörtüsü, mavi gömlekli ve çok büyük bi...   \n",
      "4    4  Yeşil başörtüsü, mavi gömlekli ve çok büyük bi...   \n",
      "\n",
      "                                 hypothesis  label  \n",
      "0        Kilisenin tavanında çatlaklar var.      1  \n",
      "1                     Kilise şarkıyla dolu.      0  \n",
      "2  Beyzbol maçında şarkı söyleyen bir koro.      2  \n",
      "3                               Kadın genç.      1  \n",
      "4                          Kadın çok mutlu.      0  \n"
     ]
    }
   ],
   "source": [
    "train_data = pd.read_csv(\"Data\\snli_tr_train.csv\",encoding=\"utf-8\")\n",
    "test_data = pd.read_csv(\"Data\\snli_tr_test.csv\",encoding=\"utf-8\")\n",
    "\n",
    "print(train_data.head())\n",
    "print(test_data.head())"
   ]
  },
  {
   "cell_type": "code",
   "execution_count": 4,
   "metadata": {},
   "outputs": [
    {
     "name": "stdout",
     "output_type": "stream",
     "text": [
      "                                             premise  \\\n",
      "0  Attaki bir kişi, bozuk bir uçağın üzerinden at...   \n",
      "1  Attaki bir kişi, bozuk bir uçağın üzerinden at...   \n",
      "2  Attaki bir kişi, bozuk bir uçağın üzerinden at...   \n",
      "3  Fotoğraf makinesinde gülümseyen ve sallayan ço...   \n",
      "4  Fotoğraf makinesinde gülümseyen ve sallayan ço...   \n",
      "\n",
      "                                     hypothesis  label  \n",
      "0         Bir kişi atını yarışma için eğitiyor.      1  \n",
      "1  Bir kişi bir lokantada omlet sipariş ediyor.      2  \n",
      "2            Bir kişi açık havada, at üzerinde.      0  \n",
      "3                     Ailelerine gülümsüyorlar.      1  \n",
      "4                          Burada çocuklar var.      0  \n",
      "                                             premise  \\\n",
      "0  Bu kilise korosu, kilisedeki kitaptan neşeli ş...   \n",
      "1  Bu kilise korosu, kilisedeki kitaptan neşeli ş...   \n",
      "2  Bu kilise korosu, kilisedeki kitaptan neşeli ş...   \n",
      "3  Yeşil başörtüsü, mavi gömlekli ve çok büyük bi...   \n",
      "4  Yeşil başörtüsü, mavi gömlekli ve çok büyük bi...   \n",
      "\n",
      "                                 hypothesis  label  \n",
      "0        Kilisenin tavanında çatlaklar var.      1  \n",
      "1                     Kilise şarkıyla dolu.      0  \n",
      "2  Beyzbol maçında şarkı söyleyen bir koro.      2  \n",
      "3                               Kadın genç.      1  \n",
      "4                          Kadın çok mutlu.      0  \n"
     ]
    }
   ],
   "source": [
    "# train_data.drop(\"idx\",inplace=True,axis=1)\n",
    "# test_data.drop(\"idx\",inplace=True,axis=1)\n",
    "# print(train_data.head())\n",
    "# print(test_data.head())"
   ]
  },
  {
   "cell_type": "code",
   "execution_count": 6,
   "metadata": {},
   "outputs": [
    {
     "data": {
      "text/plain": [
       "label\n",
       " 0    183416\n",
       " 2    183187\n",
       " 1    182764\n",
       "-1       785\n",
       "Name: count, dtype: int64"
      ]
     },
     "execution_count": 6,
     "metadata": {},
     "output_type": "execute_result"
    }
   ],
   "source": [
    "train_data[\"label\"].value_counts()"
   ]
  },
  {
   "cell_type": "code",
   "execution_count": 7,
   "metadata": {},
   "outputs": [
    {
     "name": "stdout",
     "output_type": "stream",
     "text": [
      "<class 'pandas.core.frame.DataFrame'>\n",
      "RangeIndex: 550152 entries, 0 to 550151\n",
      "Data columns (total 4 columns):\n",
      " #   Column      Non-Null Count   Dtype \n",
      "---  ------      --------------   ----- \n",
      " 0   idx         550152 non-null  int64 \n",
      " 1   premise     550152 non-null  object\n",
      " 2   hypothesis  550152 non-null  object\n",
      " 3   label       550152 non-null  int64 \n",
      "dtypes: int64(2), object(2)\n",
      "memory usage: 16.8+ MB\n"
     ]
    }
   ],
   "source": [
    "train_data.info()"
   ]
  },
  {
   "cell_type": "code",
   "execution_count": 8,
   "metadata": {},
   "outputs": [
    {
     "name": "stdout",
     "output_type": "stream",
     "text": [
      "0     attaki bir kişi bozuk bir uçağın üzerinden atlar\n",
      "1     attaki bir kişi bozuk bir uçağın üzerinden atlar\n",
      "2     attaki bir kişi bozuk bir uçağın üzerinden atlar\n",
      "3    fotoğraf makinesinde gülümseyen sallayan çocuklar\n",
      "4    fotoğraf makinesinde gülümseyen sallayan çocuklar\n",
      "Name: premise, dtype: object\n",
      "0    bu kilise korosu kilisedeki kitaptan neşeli şa...\n",
      "1    bu kilise korosu kilisedeki kitaptan neşeli şa...\n",
      "2    bu kilise korosu kilisedeki kitaptan neşeli şa...\n",
      "3    yeşil başörtüsü mavi gömlekli büyük bir sırıtı...\n",
      "4    yeşil başörtüsü mavi gömlekli büyük bir sırıtı...\n",
      "Name: premise, dtype: object\n"
     ]
    }
   ],
   "source": [
    "cleanedData = []\n",
    "\n",
    "#nltk.download('stopwords')\n",
    "swords = stopwords.words('turkish')\n",
    "\n",
    "def preprocess_text(sen):\n",
    "    #sayıları silme\n",
    "    sentence = re.sub('[\\d\\s]',' ',str(sen))\n",
    "    #noktalama işaretlerini silme\n",
    "    sentence = re.sub('[^\\w\\s]',' ',str(sentence))\n",
    "    #birden çok boşluk silme\n",
    "    sentence = re.sub(r'\\s+',' ',sentence)\n",
    "    #tek karakterleri silme\n",
    "    sentence = re.sub(r\"\\b[\\w\\w]\\b\",' ',str(sentence))\n",
    "\n",
    "    #engellenecek kelimeleri silme\n",
    "    WPT = nltk.WordPunctTokenizer()\n",
    "    tokens = WPT.tokenize(sentence)\n",
    "    filtered_tokens = [token for token in tokens if token not in swords]\n",
    "    single_doc = ' '.join(filtered_tokens)\n",
    "\n",
    "    #hüçük harf dönüştürme\n",
    "    return single_doc.lower()\n",
    "\n",
    "x = train_data['premise']\n",
    "y = train_data['hypothesis']\n",
    "z = train_data['label']\n",
    "\n",
    "a = test_data['premise']\n",
    "b = test_data['hypothesis']\n",
    "c = train_data['label']\n",
    "\n",
    "x = x.apply(preprocess_text)\n",
    "y = y.apply(preprocess_text)\n",
    "\n",
    "a = a.apply(preprocess_text)\n",
    "b = b.apply(preprocess_text)\n",
    "\n",
    "print(x.head())\n",
    "print(a.head())\n"
   ]
  },
  {
   "cell_type": "code",
   "execution_count": 9,
   "metadata": {},
   "outputs": [],
   "source": [
    "vectorizer = CountVectorizer(max_features=10000)\n",
    "BOW = vectorizer.fit_transform(x)"
   ]
  },
  {
   "cell_type": "code",
   "execution_count": 10,
   "metadata": {},
   "outputs": [
    {
     "name": "stdout",
     "output_type": "stream",
     "text": [
      "(412614, 10000)\n",
      "(137538, 10000)\n",
      "(412614,)\n",
      "(137538,)\n"
     ]
    }
   ],
   "source": [
    "from sklearn.model_selection import train_test_split\n",
    "x_train,x_test,y_train,y_test = train_test_split(BOW,np.asarray(train_data[\"label\"]))\n",
    "\n",
    "print(x_train.shape)\n",
    "print(x_test.shape)\n",
    "print(y_train.shape)\n",
    "print(y_test.shape)"
   ]
  },
  {
   "cell_type": "code",
   "execution_count": 19,
   "metadata": {},
   "outputs": [],
   "source": [
    "from sklearn.svm import SVC\n",
    "start_time = time.time()\n",
    "\n",
    "model = SVC()\n",
    "model.fit(x_train,y_train)\n",
    "\n",
    "end_time = time.time()\n",
    "process_time = round(end_time-start_time,2)\n",
    "print(\"Fitting SVC took {} seconds\".format(process_time))"
   ]
  },
  {
   "cell_type": "code",
   "execution_count": null,
   "metadata": {},
   "outputs": [],
   "source": [
    "predictions = model.predict(x_test)"
   ]
  },
  {
   "cell_type": "code",
   "execution_count": null,
   "metadata": {},
   "outputs": [],
   "source": [
    "from sklearn.metrics import accuracy_score,confusion_matrix\n",
    "\n",
    "print(\"Accuracy of model is {}%\".format(accuracy_score(y_test,predictions) * 100))"
   ]
  }
 ],
 "metadata": {
  "kernelspec": {
   "display_name": "Python 3",
   "language": "python",
   "name": "python3"
  },
  "language_info": {
   "codemirror_mode": {
    "name": "ipython",
    "version": 3
   },
   "file_extension": ".py",
   "mimetype": "text/x-python",
   "name": "python",
   "nbconvert_exporter": "python",
   "pygments_lexer": "ipython3",
   "version": "3.11.3"
  }
 },
 "nbformat": 4,
 "nbformat_minor": 2
}
