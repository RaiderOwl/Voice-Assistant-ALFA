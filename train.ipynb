{
  "cells": [
    {
      "cell_type": "markdown",
      "metadata": {
        "id": "FCEPb-doFkTB"
      },
      "source": [
        "#### Import Dataset"
      ]
    },
    {
      "cell_type": "code",
      "execution_count": null,
      "metadata": {
        "colab": {
          "base_uri": "https://localhost:8080/"
        },
        "id": "R5g90dlWDOAP",
        "outputId": "0c9bf612-fef7-4f9f-9d4c-f178bac43b96"
      },
      "outputs": [],
      "source": [
        "import pandas as pd\n",
        "data = pd.read_csv(\"Data\\data.csv\",sep=\";\")\n",
        "print(data.head())"
      ]
    },
    {
      "cell_type": "markdown",
      "metadata": {},
      "source": [
        "#### Clean Dataset"
      ]
    },
    {
      "cell_type": "code",
      "execution_count": null,
      "metadata": {
        "colab": {
          "base_uri": "https://localhost:8080/"
        },
        "id": "osYs54pwFora",
        "outputId": "3aa6b158-0a78-425b-bc3f-13b1b72d49c0"
      },
      "outputs": [],
      "source": [
        "import nltk\n",
        "from nltk.corpus import stopwords \n",
        "\n",
        "nltk.download('stopwords')\n",
        "stop_word_list = stopwords.words('turkish')\n",
        "\n",
        "import re\n",
        "\n",
        "def preprocess_text(sen):\n",
        "    #sayıları silme\n",
        "    sentence = re.sub('[\\d\\s]',' ',str(sen))\n",
        "    #noktalama işaretlerini silme\n",
        "    sentence = re.sub('[^\\w\\s]',' ',str(sentence))\n",
        "    #birden çok boşluk silme\n",
        "    sentence = re.sub(r'\\s+',' ',sentence)\n",
        "    #tek karakterleri silme\n",
        "    sentence = re.sub(r\"\\b[\\w\\w]\\b\",' ',str(sentence))\n",
        "\n",
        "    #engellenecek kelimeleri silme\n",
        "    WPT = nltk.WordPunctTokenizer()\n",
        "    tokens = WPT.tokenize(sentence)\n",
        "    filtered_tokens = [token for token in tokens if token not in stop_word_list]\n",
        "    single_doc = ' '.join(filtered_tokens)\n",
        "\n",
        "    #hüçük harf dönüştürme\n",
        "    return single_doc.lower()\n",
        "\n",
        "x = data['Sentence']\n",
        "y = data['Tag']\n",
        "\n",
        "x = x.apply(preprocess_text)\n",
        "\n",
        "print(x.head())\n",
        "print(y.head())"
      ]
    },
    {
      "cell_type": "markdown",
      "metadata": {
        "id": "NlOy6M9eF7mp"
      },
      "source": [
        "#### Transform Labels"
      ]
    },
    {
      "cell_type": "code",
      "execution_count": null,
      "metadata": {
        "colab": {
          "base_uri": "https://localhost:8080/"
        },
        "id": "02O7ZVj1F-YR",
        "outputId": "0400b1ad-99ff-43f8-9018-1c54ab755820"
      },
      "outputs": [],
      "source": [
        "#Etiket bilgilerinin metin halinden notr,olumlu,olumsuz şeklinden 0,1,2 haline çevrilmesi\n",
        "from sklearn import preprocessing\n",
        "\n",
        "y= preprocessing.LabelEncoder().fit_transform(y)\n",
        "print(y)\n"
      ]
    },
    {
      "cell_type": "markdown",
      "metadata": {
        "id": "Gdu8J_fpGaus"
      },
      "source": [
        "#### Kelimelerin Vektörlere Dönüştürülmesi(TF/IDF)"
      ]
    },
    {
      "cell_type": "code",
      "execution_count": null,
      "metadata": {
        "id": "I-wer7uEGhhM"
      },
      "outputs": [],
      "source": [
        "from sklearn.feature_extraction.text import TfidfVectorizer\n",
        "\n",
        "vect = TfidfVectorizer(analyzer='word', lowercase=False)\n",
        "vect.fit(x)\n",
        "sent_vector = vect.transform(x)\n"
      ]
    },
    {
      "cell_type": "code",
      "execution_count": null,
      "metadata": {},
      "outputs": [],
      "source": [
        "import joblib\n",
        "joblib.dump(vect,\"svmvectorizer.pkl\")"
      ]
    },
    {
      "cell_type": "markdown",
      "metadata": {
        "id": "SZwkuHLbHHvD"
      },
      "source": [
        "# Veri Setinin Test ve Train olarak ayrılması"
      ]
    },
    {
      "cell_type": "code",
      "execution_count": null,
      "metadata": {
        "colab": {
          "base_uri": "https://localhost:8080/"
        },
        "id": "F2chLJ0hHPIw",
        "outputId": "dfc494c5-00b6-4bf5-a87a-7a05ca9c3ba2"
      },
      "outputs": [],
      "source": [
        "from sklearn.model_selection import train_test_split\n",
        "\n",
        "x_train,x_test,y_train,y_test = train_test_split(sent_vector,y,test_size=0.2,random_state=0)\n",
        "print(x_train)\n",
        "print(y_train)"
      ]
    },
    {
      "cell_type": "markdown",
      "metadata": {
        "id": "PGQ4Qe45H2Ws"
      },
      "source": [
        "#### Geleneksel Makine Öğrenmesi Yöntemi : SVM"
      ]
    },
    {
      "cell_type": "code",
      "execution_count": null,
      "metadata": {
        "colab": {
          "base_uri": "https://localhost:8080/"
        },
        "id": "3jkiqQH8H6xN",
        "outputId": "11bfed6b-cb3b-49d4-f703-a624b13f5dfa"
      },
      "outputs": [],
      "source": [
        "from sklearn.svm import SVC\n",
        "import joblib\n",
        "\n",
        "# Başarı oranının değiştiği gözlemlenecektir. ( ‘linear’, ‘poly’, ‘rbf’, ‘sigmoid’ )\n",
        "svc = SVC(C=0.5,kernel='linear')\n",
        "\n",
        "svc.fit(x_train,y_train)\n",
        "joblib.dump(svc, \"svcmodel.pkl\")"
      ]
    },
    {
      "cell_type": "code",
      "execution_count": null,
      "metadata": {},
      "outputs": [],
      "source": [
        "print(x_test)"
      ]
    },
    {
      "cell_type": "code",
      "execution_count": null,
      "metadata": {
        "colab": {
          "base_uri": "https://localhost:8080/"
        },
        "id": "1N9cVfg5H9sk",
        "outputId": "e2f93970-6ad9-4b79-c76d-80397a9d169c"
      },
      "outputs": [],
      "source": [
        "resultsvm = svc.predict(x_test)\n",
        "print(resultsvm)"
      ]
    },
    {
      "cell_type": "code",
      "execution_count": null,
      "metadata": {
        "colab": {
          "base_uri": "https://localhost:8080/"
        },
        "id": "525LNImSH_LQ",
        "outputId": "ef15cde9-896d-4ebd-a9e4-682294c905b2"
      },
      "outputs": [],
      "source": [
        "from sklearn.metrics import accuracy_score\n",
        "from sklearn.metrics import precision_recall_fscore_support\n",
        "from sklearn.linear_model import LogisticRegression\n",
        "from sklearn.metrics import roc_auc_score\n",
        "\n",
        "clf = LogisticRegression(solver=\"liblinear\").fit(x_train, y_train)\n",
        "aucsvm = roc_auc_score(y_test, clf.predict_proba(x_test), multi_class='ovr')\n",
        "print(aucsvm)\n",
        "accsvm = accuracy_score(y_test,resultsvm)\n",
        "print(accsvm)\n",
        "\n",
        "precision_recall_fscore_support(y_test, resultsvm, average='macro')"
      ]
    },
    {
      "cell_type": "markdown",
      "metadata": {
        "id": "V7Q_kFlDIvhQ"
      },
      "source": [
        "# Yapay Sinir Ağları : MLP"
      ]
    },
    {
      "cell_type": "code",
      "execution_count": null,
      "metadata": {
        "id": "zM6xNqzRIv70"
      },
      "outputs": [],
      "source": [
        "from keras.models import Sequential\n",
        "from keras.layers import Dense\n",
        "\n",
        "modelmlp = Sequential()\n",
        "\n",
        "modelmlp.add(Dense(600,input_dim = 40065, activation = 'relu'))\n",
        "\n",
        "modelmlp.add(Dense(600,input_dim = 40065, activation = 'relu'))\n",
        "\n",
        "modelmlp.add(Dense(600,input_dim = 40065, activation = 'relu'))\n",
        "\n",
        "modelmlp.add(Dense(600,input_dim = 40065, activation = 'tanh'))\n",
        "\n",
        "modelmlp.add(Dense(5,input_dim = 40065, activation = 'sigmoid'))"
      ]
    },
    {
      "cell_type": "code",
      "execution_count": null,
      "metadata": {
        "colab": {
          "base_uri": "https://localhost:8080/"
        },
        "id": "lFgS9XWcw87w",
        "outputId": "9aaa08e1-f376-496a-847f-280b2526aded"
      },
      "outputs": [],
      "source": [
        "modelmlp.compile(loss='sparse_categorical_crossentropy',optimizer = 'adam',metrics =['accuracy'])\n",
        "modelmlp.summary()"
      ]
    },
    {
      "cell_type": "code",
      "execution_count": null,
      "metadata": {
        "colab": {
          "base_uri": "https://localhost:8080/"
        },
        "id": "oeXYDAG2xJgw",
        "outputId": "790a6d41-ecd4-4f47-c283-697e9350911b"
      },
      "outputs": [],
      "source": [
        "historymlp = modelmlp.fit(x_train, y_train, epochs=10, batch_size=32, verbose=2,validation_data=(x_test,y_test))"
      ]
    },
    {
      "cell_type": "code",
      "execution_count": null,
      "metadata": {
        "colab": {
          "base_uri": "https://localhost:8080/"
        },
        "id": "DyO03XkS0QLu",
        "outputId": "c3161ea3-4989-416f-d0f4-346086b44ecb"
      },
      "outputs": [],
      "source": [
        "#model test\n",
        "scoremlptest = modelmlp.evaluate(x_test,y_test)\n",
        "\n",
        "print(\"test Loss:\",scoremlptest[0])\n",
        "print(\"test Accuracy:\",scoremlptest[1])\n"
      ]
    },
    {
      "cell_type": "code",
      "execution_count": null,
      "metadata": {
        "colab": {
          "base_uri": "https://localhost:8080/"
        },
        "id": "-xOa3t_CNKDs",
        "outputId": "1f7fb5d8-5682-4f04-8c94-2518f190db21"
      },
      "outputs": [],
      "source": [
        "from sklearn.metrics import confusion_matrix\n",
        "#confusion_matrix(y_test, resultmlp)\n",
        "print(resultmlp)"
      ]
    },
    {
      "cell_type": "markdown",
      "metadata": {
        "id": "KFsD05WtIwRF"
      },
      "source": [
        "#Derin Öğrenme Yöntemleri : RNN, LSTM\n"
      ]
    },
    {
      "cell_type": "code",
      "execution_count": null,
      "metadata": {
        "colab": {
          "base_uri": "https://localhost:8080/"
        },
        "id": "SjWyjPlkt8tj",
        "outputId": "bed0f422-7dcb-4ba5-ce44-2f78a821ae89"
      },
      "outputs": [],
      "source": [
        "#Kelimeleri sayıya dönüştürme \n",
        "from keras.preprocessing.text import  Tokenizer\n",
        "from keras.preprocessing.sequence import  pad_sequences\n",
        "\n",
        "token = Tokenizer()\n",
        "token.fit_on_texts(x)\n",
        "xdl = token.texts_to_sequences(x)\n",
        "xdl = pad_sequences(xdl)\n",
        "print(xdl)"
      ]
    },
    {
      "cell_type": "code",
      "execution_count": null,
      "metadata": {
        "colab": {
          "base_uri": "https://localhost:8080/"
        },
        "id": "QXfN5ad0vGjC",
        "outputId": "78f3eef8-f1c8-4f9f-8405-01f1501cb9a3"
      },
      "outputs": [],
      "source": [
        "#Verileri ölçeklendirme standartlaştırma ve normalleştirme\n",
        "from sklearn.preprocessing import StandardScaler\n",
        "\n",
        "scaler = StandardScaler()\n",
        "xdl=scaler.fit_transform(xdl)\n",
        "print(xdl)"
      ]
    },
    {
      "cell_type": "code",
      "execution_count": null,
      "metadata": {
        "colab": {
          "base_uri": "https://localhost:8080/"
        },
        "id": "EBE-E-53vIxm",
        "outputId": "05fe9c74-eeba-4a3a-86d2-6781e8d32d10"
      },
      "outputs": [],
      "source": [
        "#One Hot Encoding 0,1,2 Olan labellerımızı 1,0,0(Notr)/0,1,0(olumlu)/0,0,1(olumsuz) şekline getiriyoruz\n",
        "from keras.utils import  to_categorical\n",
        "\n",
        "ydl=to_categorical(y)\n",
        "print(ydl)"
      ]
    },
    {
      "cell_type": "code",
      "execution_count": null,
      "metadata": {
        "id": "Lm-IbV0zvKX0"
      },
      "outputs": [],
      "source": [
        "xdl_train,xdl_test,ydl_train,ydl_test = train_test_split(xdl,ydl,test_size=0.2,random_state=0)"
      ]
    },
    {
      "cell_type": "code",
      "execution_count": null,
      "metadata": {
        "colab": {
          "base_uri": "https://localhost:8080/"
        },
        "id": "_YcC8Rowwe7h",
        "outputId": "4b571db9-9c36-4057-a5eb-d85f362b343a"
      },
      "outputs": [],
      "source": [
        "print(xdl_train.shape)\n",
        "print(ydl_train.shape)"
      ]
    },
    {
      "cell_type": "markdown",
      "metadata": {
        "id": "bqQWs6ry-jai"
      },
      "source": [
        "RNN"
      ]
    },
    {
      "cell_type": "code",
      "execution_count": null,
      "metadata": {
        "id": "f7SvhbrtIbKl"
      },
      "outputs": [],
      "source": [
        "#RNN Model17000\n",
        "from keras.models import Sequential\n",
        "from keras.layers import Dense, SimpleRNN, Embedding, Dropout\n",
        "\n",
        "modelrnn=Sequential()\n",
        "\n",
        "modelrnn.add(Embedding(480,256))\n",
        "\n",
        "modelrnn.add(SimpleRNN(256,activation='tanh',return_sequences=True,))\n",
        "\n",
        "modelrnn.add(SimpleRNN(256,activation='tanh'))\n",
        "\n",
        "modelrnn.add(Dense(5,activation='softmax'))"
      ]
    },
    {
      "cell_type": "code",
      "execution_count": null,
      "metadata": {
        "colab": {
          "base_uri": "https://localhost:8080/"
        },
        "id": "4g7A_n78aOAf",
        "outputId": "4608f7cf-cf58-4d2d-c970-4dab3841b136"
      },
      "outputs": [],
      "source": [
        "#Model derlemesi\n",
        "\n",
        "modelrnn.compile(loss='categorical_crossentropy',optimizer ='adam',metrics=['accuracy'])\n",
        "modelrnn.summary()"
      ]
    },
    {
      "cell_type": "code",
      "execution_count": null,
      "metadata": {
        "colab": {
          "base_uri": "https://localhost:8080/"
        },
        "id": "mMsjjpOaaO_z",
        "outputId": "bf86b5ba-04db-4170-f2a6-653c2df05472"
      },
      "outputs": [],
      "source": [
        "\n",
        "#model eğitimi\n",
        "historyrnn = modelrnn.fit(xdl_train, ydl_train, epochs=10, batch_size=32, verbose=2,validation_data=(xdl_test,ydl_test))"
      ]
    },
    {
      "cell_type": "code",
      "execution_count": null,
      "metadata": {
        "colab": {
          "base_uri": "https://localhost:8080/"
        },
        "id": "ebyHzO2ZxjaZ",
        "outputId": "be9ebd19-decd-475e-f9b0-76d77fc3c9d3"
      },
      "outputs": [],
      "source": [
        "#model test\n",
        "scorernntest = modelrnn.evaluate(xdl_test,ydl_test)\n",
        "\n",
        "print(\"Test Loss:\",scorernntest[0])\n",
        "print(\"Test Accuracy:\",scorernntest[1])"
      ]
    },
    {
      "cell_type": "code",
      "execution_count": null,
      "metadata": {
        "id": "yUj4BE6iP3ku"
      },
      "outputs": [],
      "source": [
        "#from sklearn.metrics import accuracy_score\n",
        "#from sklearn.metrics import precision_recall_fscore_support\n",
        "#from sklearn.linear_model import LogisticRegression\n",
        "#from sklearn.metrics import roc_auc_score\n",
        "\n",
        "#resultrnn = modelrnn.predict(xdl_test)\n",
        "#clf = LogisticRegression(solver=\"liblinear\").fit(xdl_train, ydl_train)\n",
        "#aucrnn = roc_auc_score(ydl_test, clf.predict_proba(xdl_test), multi_class='ovr')\n",
        "#print(aucrnn)\n",
        "\n",
        "#precision_recall_fscore_support(ydl_test, resultrnn, average='macro')"
      ]
    },
    {
      "cell_type": "markdown",
      "metadata": {
        "id": "GScN6uMkZhwQ"
      },
      "source": [
        "LSTM\n"
      ]
    },
    {
      "cell_type": "code",
      "execution_count": null,
      "metadata": {
        "id": "iB3el_8DZjG_"
      },
      "outputs": [],
      "source": [
        "#LSTM \n",
        "from keras.layers import LSTM\n",
        "\n",
        "modellstm=Sequential()\n",
        "\n",
        "modellstm.add(Embedding(500,256))\n",
        "\n",
        "modellstm.add(LSTM(256,activation='tanh',return_sequences=True))\n",
        "\n",
        "modellstm.add(LSTM(256,activation='tanh'))\n",
        "\n",
        "modellstm.add(Dense(3,activation='softmax'))"
      ]
    },
    {
      "cell_type": "code",
      "execution_count": null,
      "metadata": {
        "colab": {
          "base_uri": "https://localhost:8080/"
        },
        "id": "PCPfnsH4Zmib",
        "outputId": "7c0fd8b9-61ef-4a9b-d3cc-707ae4c63a65"
      },
      "outputs": [],
      "source": [
        "#Model derlemesi\n",
        "modellstm.compile(loss='categorical_crossentropy',optimizer ='adam',metrics=['accuracy'])\n",
        "modellstm.summary()"
      ]
    },
    {
      "cell_type": "code",
      "execution_count": null,
      "metadata": {
        "colab": {
          "base_uri": "https://localhost:8080/"
        },
        "id": "V9fvCbO2ZmmZ",
        "outputId": "8753d6c6-3aa0-43c8-d000-7dd80e652bf1"
      },
      "outputs": [],
      "source": [
        "#model eğitimi\n",
        "historylstm = modellstm.fit(xdl_train,ydl_train,epochs=10, batch_size=32,verbose=1,validation_data=(xdl_test,ydl_test))"
      ]
    },
    {
      "cell_type": "code",
      "execution_count": null,
      "metadata": {
        "colab": {
          "base_uri": "https://localhost:8080/"
        },
        "id": "kqPja6hf0bZW",
        "outputId": "4af89d9a-cde5-4ba0-da5b-c1df434ce272"
      },
      "outputs": [],
      "source": [
        "#model test\n",
        "\n",
        "scorelstmtest = modellstm.evaluate(xdl_test,ydl_test)\n",
        "\n",
        "print(\"Test Loss:\",scorelstmtest[0])\n",
        "print(\"Test Accuracy:\",scorelstmtest[1])"
      ]
    },
    {
      "cell_type": "code",
      "execution_count": null,
      "metadata": {
        "id": "wm4VRA6SQUnG"
      },
      "outputs": [],
      "source": [
        "#from sklearn.metrics import accuracy_score\n",
        "#from sklearn.metrics import precision_recall_fscore_support\n",
        "#from sklearn.linear_model import LogisticRegression\n",
        "#from sklearn.metrics import roc_auc_score\n",
        "\n",
        "#resultrnn = model.predict(x_test)\n",
        "#clf = LogisticRegression(solver=\"liblinear\").fit(xdl_train, ydl_train)\n",
        "#aucrnn = roc_auc_score(ydl_test, clf.predict_proba(xdl_test), multi_class='ovr')\n",
        "#print(aucrnn)\n",
        "\n",
        "#precision_recall_fscore_support(ydl_test, resultrnn, average='macro')"
      ]
    },
    {
      "cell_type": "markdown",
      "metadata": {
        "id": "q1uEzNJ6-pYL"
      },
      "source": [
        "# Kelime Yerleştirme Yöntemleri : Word2Vec, Glove"
      ]
    },
    {
      "cell_type": "markdown",
      "metadata": {
        "id": "ip3qyKCE-v9y"
      },
      "source": [
        "Word2Vec"
      ]
    },
    {
      "cell_type": "code",
      "execution_count": null,
      "metadata": {
        "colab": {
          "base_uri": "https://localhost:8080/"
        },
        "id": "GTVdI5qv_3Xh",
        "outputId": "5f07cf48-bfd2-4641-e43f-98c7fabad82c"
      },
      "outputs": [],
      "source": [
        "import numpy as np \n",
        "from gensim.models.word2vec import Word2Vec \n",
        "from keras.layers import  Dense,Dropout,Conv1D,MaxPool1D,GlobalMaxPool1D,Activation,LSTM\n",
        "from keras.models import Sequential\n",
        "from gensim.parsing.preprocessing import remove_stopwords\n",
        "from sklearn.metrics import confusion_matrix\n",
        "from mlxtend.plotting import plot_confusion_matrix \n",
        "import matplotlib.pyplot as plt \n",
        "import seaborn as sns \n",
        "\n",
        "words = []\n",
        "for i in x:\n",
        "    words.append(i.split())\n",
        "\n",
        "print(words[0])\n",
        "\n",
        "word2vec_model = Word2Vec(words,size = 150 , window = 3, min_count=1, workers=16)\n",
        "print(word2vec_model)\n",
        "\n",
        "modelw2v = Sequential()\n",
        "\n",
        "modelw2v.add(word2vec_model.wv.get_keras_embedding(True))\n",
        "modelw2v.add(LSTM(units=150))\n",
        "modelw2v.add(Dense(3,activation='sigmoid'))"
      ]
    },
    {
      "cell_type": "code",
      "execution_count": null,
      "metadata": {
        "colab": {
          "base_uri": "https://localhost:8080/"
        },
        "id": "YZ4gApE5Qdtx",
        "outputId": "58de60d5-e9cf-47ff-f906-30651fb23f4f"
      },
      "outputs": [],
      "source": [
        "modelw2v.compile(optimizer='adam', loss='categorical_crossentropy',metrics=['accuracy'])\n",
        "modelw2v.summary()"
      ]
    },
    {
      "cell_type": "code",
      "execution_count": null,
      "metadata": {
        "colab": {
          "base_uri": "https://localhost:8080/"
        },
        "id": "xlUhFKw8QnBN",
        "outputId": "2e856794-6e7b-4d93-8268-5b027bb9ea44"
      },
      "outputs": [],
      "source": [
        "historyw2v = modelw2v.fit(xdl_train,ydl_train,batch_size=16,epochs=5,validation_data=(xdl_test,ydl_test))"
      ]
    },
    {
      "cell_type": "code",
      "execution_count": null,
      "metadata": {
        "colab": {
          "base_uri": "https://localhost:8080/"
        },
        "id": "lPKLF-g1QnL6",
        "outputId": "00334093-a11a-4e9e-f0f7-5e7c23dc1a4f"
      },
      "outputs": [],
      "source": [
        "scorew2v = modelw2v.evaluate(xdl_test,ydl_test,verbose=0)\n",
        "\n",
        "print('Test Score : ',scorew2v[0])\n",
        "print('Test accuracy : ',scorew2v[1])"
      ]
    },
    {
      "cell_type": "code",
      "execution_count": null,
      "metadata": {
        "id": "If-rj7p6T1EO"
      },
      "outputs": [],
      "source": [
        "#from sklearn.metrics import accuracy_score\n",
        "#from sklearn.metrics import precision_recall_fscore_support\n",
        "#from sklearn.linear_model import LogisticRegression\n",
        "#from sklearn.metrics import roc_auc_score\n",
        "\n",
        "#resultw2v= modelw2v.predict(xdl_test)\n",
        "#clf = LogisticRegression(solver=\"liblinear\").fit(xdl_train, ydl_train)\n",
        "#aucw2v = roc_auc_score(ydl_test, clf.predict_proba(xdl_test), multi_class='ovr')\n",
        "#print(aucw2v)\n",
        "\n",
        "#precision_recall_fscore_support(ydl_test, resultw2v, average='macro')"
      ]
    },
    {
      "cell_type": "markdown",
      "metadata": {
        "id": "sdGOaVDJ_Hvt"
      },
      "source": [
        "# Değerlendirme Metrikleri : Accuracy, F-Measure, Precision, Recall, Sensitivity, AUC, Mattheww, Correlation Coefficent¶"
      ]
    },
    {
      "cell_type": "markdown",
      "metadata": {
        "id": "oZ_nu9Zf_MSG"
      },
      "source": [
        "#Deep Learning Ezberlemediğinin Grafiği"
      ]
    },
    {
      "cell_type": "code",
      "execution_count": null,
      "metadata": {
        "colab": {
          "base_uri": "https://localhost:8080/",
          "height": 265
        },
        "id": "TWedfdqDSdqg",
        "outputId": "186eb7da-ed72-410c-dfff-9e02d0a879e8"
      },
      "outputs": [],
      "source": [
        "import matplotlib.pyplot as plt\n",
        "fig,ax =plt.subplots(2,1)\n",
        "ax[0].plot(historymlp.history['loss'],color='b',label='Training loss')\n",
        "ax[0].plot(historymlp.history['val_loss'],color='r',label='Validation loss',axes=ax[0])\n",
        "legend=ax[0].legend(loc='best',shadow=True)\n",
        "\n",
        "ax[1].plot(historymlp.history['accuracy'],color='b',label='Training accuracy')\n",
        "ax[1].plot(historymlp.history['val_accuracy'],color='r',label='Validation accuracy')\n",
        "legend=ax[1].legend(loc='best',shadow=True)"
      ]
    },
    {
      "cell_type": "code",
      "execution_count": null,
      "metadata": {
        "colab": {
          "base_uri": "https://localhost:8080/",
          "height": 265
        },
        "id": "yoyu-BR9q7dz",
        "outputId": "2b28709e-1498-4029-b6f7-de5f9481ef43"
      },
      "outputs": [],
      "source": [
        "import matplotlib.pyplot as plt\n",
        "fig,ax =plt.subplots(2,1)\n",
        "ax[0].plot(historyrnn.history['loss'],color='b',label='Training loss')\n",
        "ax[0].plot(historyrnn.history['val_loss'],color='r',label='Validation loss',axes=ax[0])\n",
        "legend=ax[0].legend(loc='best',shadow=True)\n",
        "\n",
        "ax[1].plot(historyrnn.history['accuracy'],color='b',label='Training accuracy')\n",
        "ax[1].plot(historyrnn.history['val_accuracy'],color='r',label='Validation accuracy')\n",
        "legend=ax[1].legend(loc='best',shadow=True)"
      ]
    },
    {
      "cell_type": "code",
      "execution_count": null,
      "metadata": {
        "id": "5EFBqyp1Vt3q"
      },
      "outputs": [],
      "source": [
        "import matplotlib.pyplot as plt\n",
        "fig,ax =plt.subplots(2,1)\n",
        "ax[0].plot(historylstm.history['loss'],color='b',label='Training loss')\n",
        "ax[0].plot(historylstm.history['val_loss'],color='r',label='Validation loss',axes=ax[0])\n",
        "legend=ax[0].legend(loc='best',shadow=True)\n",
        "\n",
        "ax[1].plot(historylstm.history['accuracy'],color='b',label='Training accuracy')\n",
        "ax[1].plot(historylstm.history['val_accuracy'],color='r',label='Validation accuracy')\n",
        "legend=ax[1].legend(loc='best',shadow=True)"
      ]
    }
  ],
  "metadata": {
    "colab": {
      "collapsed_sections": [
        "cvQk0BFD8_8r",
        "FCEPb-doFkTB",
        "NlOy6M9eF7mp",
        "Gdu8J_fpGaus",
        "SZwkuHLbHHvD",
        "PGQ4Qe45H2Ws",
        "V7Q_kFlDIvhQ",
        "KFsD05WtIwRF",
        "q1uEzNJ6-pYL",
        "XFA9YL6b-2tU",
        "oZ_nu9Zf_MSG"
      ],
      "name": "Text_Mining_Project.ipynb",
      "provenance": [],
      "toc_visible": true
    },
    "kernelspec": {
      "display_name": "Python 3",
      "name": "python3"
    },
    "language_info": {
      "codemirror_mode": {
        "name": "ipython",
        "version": 3
      },
      "file_extension": ".py",
      "mimetype": "text/x-python",
      "name": "python",
      "nbconvert_exporter": "python",
      "pygments_lexer": "ipython3",
      "version": "3.11.3"
    }
  },
  "nbformat": 4,
  "nbformat_minor": 0
}
