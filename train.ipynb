{
  "cells": [
    {
      "cell_type": "markdown",
      "metadata": {
        "id": "FCEPb-doFkTB"
      },
      "source": [
        "#### Import Dataset"
      ]
    },
    {
      "cell_type": "code",
      "execution_count": 6,
      "metadata": {
        "colab": {
          "base_uri": "https://localhost:8080/"
        },
        "id": "R5g90dlWDOAP",
        "outputId": "0c9bf612-fef7-4f9f-9d4c-f178bac43b96"
      },
      "outputs": [
        {
          "name": "stdout",
          "output_type": "stream",
          "text": [
            "                                           sentence  label\n",
            "0                                   Cinema 4D kapat      3\n",
            "1                       PowerPoint  uygulamasını aç      3\n",
            "2  Şebnem Ferah Eşkıya Dünyaya Hükümdar Olmaz oynat      0\n",
            "3                           Ebru Gündeş Üç Kalp çal      0\n",
            "4                          Kahramanmaraş hava nasıl      1\n"
          ]
        }
      ],
      "source": [
        "import pandas as pd\n",
        "data = pd.read_csv(\"Data\\data.csv\",sep=\",\",encoding=\"utf-8\")\n",
        "print(data.head())"
      ]
    },
    {
      "cell_type": "markdown",
      "metadata": {},
      "source": [
        "#### Clean Dataset"
      ]
    },
    {
      "cell_type": "code",
      "execution_count": 7,
      "metadata": {
        "colab": {
          "base_uri": "https://localhost:8080/"
        },
        "id": "osYs54pwFora",
        "outputId": "3aa6b158-0a78-425b-bc3f-13b1b72d49c0"
      },
      "outputs": [
        {
          "name": "stdout",
          "output_type": "stream",
          "text": [
            "0                                        cinema kapat\n",
            "1                          powerpoint uygulamasını aç\n",
            "2    şebnem ferah eşkıya dünyaya hükümdar olmaz oynat\n",
            "3                             ebru gündeş üç kalp çal\n",
            "4                                  kahramanmaraş hava\n",
            "Name: sentence, dtype: object\n",
            "0    3\n",
            "1    3\n",
            "2    0\n",
            "3    0\n",
            "4    1\n",
            "Name: label, dtype: int64\n"
          ]
        },
        {
          "name": "stderr",
          "output_type": "stream",
          "text": [
            "[nltk_data] Downloading package stopwords to\n",
            "[nltk_data]     C:\\Users\\akinb\\AppData\\Roaming\\nltk_data...\n",
            "[nltk_data]   Package stopwords is already up-to-date!\n"
          ]
        }
      ],
      "source": [
        "import nltk\n",
        "from nltk.corpus import stopwords \n",
        "\n",
        "nltk.download('stopwords')\n",
        "stop_word_list = stopwords.words('turkish')\n",
        "\n",
        "import re\n",
        "\n",
        "def preprocess_text(sen):\n",
        "    #sayıları silme\n",
        "    sentence = re.sub('[\\d\\s]',' ',str(sen))\n",
        "    #noktalama işaretlerini silme\n",
        "    sentence = re.sub('[^\\w\\s]',' ',str(sentence))\n",
        "    #birden çok boşluk silme\n",
        "    sentence = re.sub(r'\\s+',' ',sentence)\n",
        "    #tek karakterleri silme\n",
        "    sentence = re.sub(r\"\\b[\\w\\w]\\b\",' ',str(sentence))\n",
        "\n",
        "    #engellenecek kelimeleri silme\n",
        "    WPT = nltk.WordPunctTokenizer()\n",
        "    tokens = WPT.tokenize(sentence)\n",
        "    filtered_tokens = [token for token in tokens if token not in stop_word_list]\n",
        "    single_doc = ' '.join(filtered_tokens)\n",
        "\n",
        "    #hüçük harf dönüştürme\n",
        "    return single_doc.lower()\n",
        "\n",
        "x = data['sentence']\n",
        "y = data['label']\n",
        "\n",
        "x = x.apply(preprocess_text)\n",
        "\n",
        "print(x.head())\n",
        "print(y.head())"
      ]
    },
    {
      "cell_type": "markdown",
      "metadata": {
        "id": "Gdu8J_fpGaus"
      },
      "source": [
        "#### Kelimelerin Vektörlere Dönüştürülmesi(TF/IDF)"
      ]
    },
    {
      "cell_type": "code",
      "execution_count": 8,
      "metadata": {
        "id": "I-wer7uEGhhM"
      },
      "outputs": [],
      "source": [
        "from sklearn.feature_extraction.text import TfidfVectorizer\n",
        "import joblib\n",
        "\n",
        "vect = TfidfVectorizer(analyzer='word', lowercase=False)\n",
        "vect.fit(x)\n",
        "joblib.dump(vect,\"Models\\svmvectorizer.pkl\")\n",
        "sent_vector = vect.transform(x)\n"
      ]
    },
    {
      "cell_type": "markdown",
      "metadata": {
        "id": "SZwkuHLbHHvD"
      },
      "source": [
        "# Veri Setinin Test ve Train olarak ayrılması"
      ]
    },
    {
      "cell_type": "code",
      "execution_count": 9,
      "metadata": {
        "colab": {
          "base_uri": "https://localhost:8080/"
        },
        "id": "F2chLJ0hHPIw",
        "outputId": "dfc494c5-00b6-4bf5-a87a-7a05ca9c3ba2"
      },
      "outputs": [
        {
          "name": "stdout",
          "output_type": "stream",
          "text": [
            "  (0, 530)\t0.4715683662502314\n",
            "  (0, 474)\t0.4295938445123894\n",
            "  (0, 230)\t0.7701119429726776\n",
            "  (1, 542)\t0.4162220011764153\n",
            "  (1, 425)\t0.3012769712441693\n",
            "  (1, 413)\t0.7570571435015578\n",
            "  (1, 302)\t0.2690330677239423\n",
            "  (1, 185)\t0.3007941526674786\n",
            "  (2, 651)\t0.4089952460071913\n",
            "  (2, 535)\t0.6092838017010285\n",
            "  (2, 32)\t0.6793350702917222\n",
            "  (3, 542)\t0.3605684814537448\n",
            "  (3, 532)\t0.41601339635972256\n",
            "  (3, 425)\t0.2609928829121422\n",
            "  (3, 302)\t0.2330603486021609\n",
            "  (3, 290)\t0.41601339635972256\n",
            "  (3, 273)\t0.5775140979554452\n",
            "  (3, 185)\t0.26057462255943864\n",
            "  (4, 511)\t0.3877063603244278\n",
            "  (4, 455)\t0.2146755538652099\n",
            "  (4, 452)\t0.3877063603244278\n",
            "  (4, 445)\t0.4792241314797847\n",
            "  (4, 333)\t0.4404207380625115\n",
            "  (4, 148)\t0.4792241314797847\n",
            "  (5, 596)\t0.6004636592286434\n",
            "  :\t:\n",
            "  (2084, 561)\t0.648891541589256\n",
            "  (2084, 536)\t0.648891541589256\n",
            "  (2084, 530)\t0.3973405774745865\n",
            "  (2085, 332)\t0.5113058235424321\n",
            "  (2085, 131)\t0.8593988333780744\n",
            "  (2086, 542)\t0.4321593801961708\n",
            "  (2086, 521)\t0.7347243647124332\n",
            "  (2086, 425)\t0.31281303917683767\n",
            "  (2086, 302)\t0.2793344981073561\n",
            "  (2086, 185)\t0.31231173320007505\n",
            "  (2087, 637)\t0.36706097481003297\n",
            "  (2087, 378)\t0.8021735969757839\n",
            "  (2087, 281)\t0.30453005036816766\n",
            "  (2087, 182)\t0.35922863124923954\n",
            "  (2088, 668)\t0.4273680940899667\n",
            "  (2088, 626)\t0.5394673857088726\n",
            "  (2088, 408)\t0.4273680940899667\n",
            "  (2088, 86)\t0.5394673857088726\n",
            "  (2088, 64)\t0.2294839946939388\n",
            "  (2089, 307)\t0.45755283368288857\n",
            "  (2089, 158)\t0.45755283368288857\n",
            "  (2089, 99)\t0.361364344046604\n",
            "  (2089, 97)\t0.45755283368288857\n",
            "  (2089, 64)\t0.1788782502340719\n",
            "  (2089, 44)\t0.45755283368288857\n",
            "2357    3\n",
            "2193    1\n",
            "543     3\n",
            "682     1\n",
            "1540    0\n",
            "       ..\n",
            "1731    3\n",
            "763     1\n",
            "835     2\n",
            "1653    0\n",
            "2607    0\n",
            "Name: label, Length: 2090, dtype: int64\n"
          ]
        }
      ],
      "source": [
        "from sklearn.model_selection import train_test_split\n",
        "\n",
        "x_train,x_test,y_train,y_test = train_test_split(sent_vector,y,test_size=0.2,random_state=0)\n",
        "print(x_train)\n",
        "print(y_train)"
      ]
    },
    {
      "cell_type": "markdown",
      "metadata": {
        "id": "PGQ4Qe45H2Ws"
      },
      "source": [
        "#### Geleneksel Makine Öğrenmesi Yöntemi : SVM"
      ]
    },
    {
      "cell_type": "code",
      "execution_count": 10,
      "metadata": {
        "colab": {
          "base_uri": "https://localhost:8080/"
        },
        "id": "3jkiqQH8H6xN",
        "outputId": "11bfed6b-cb3b-49d4-f703-a624b13f5dfa"
      },
      "outputs": [
        {
          "data": {
            "text/plain": [
              "['Models\\\\svcmodel.pkl']"
            ]
          },
          "execution_count": 10,
          "metadata": {},
          "output_type": "execute_result"
        }
      ],
      "source": [
        "from sklearn.svm import SVC\n",
        "\n",
        "svc = SVC(C=0.5,kernel='linear')\n",
        "\n",
        "svc.fit(x_train,y_train)\n",
        "joblib.dump(svc, \"Models\\svcmodel.pkl\")"
      ]
    },
    {
      "cell_type": "code",
      "execution_count": 11,
      "metadata": {
        "colab": {
          "base_uri": "https://localhost:8080/"
        },
        "id": "1N9cVfg5H9sk",
        "outputId": "e2f93970-6ad9-4b79-c76d-80397a9d169c"
      },
      "outputs": [],
      "source": [
        "resultsvm = svc.predict(x_test)"
      ]
    },
    {
      "cell_type": "code",
      "execution_count": 12,
      "metadata": {
        "colab": {
          "base_uri": "https://localhost:8080/"
        },
        "id": "525LNImSH_LQ",
        "outputId": "ef15cde9-896d-4ebd-a9e4-682294c905b2"
      },
      "outputs": [
        {
          "name": "stdout",
          "output_type": "stream",
          "text": [
            "1.0\n",
            "1.0\n"
          ]
        },
        {
          "data": {
            "text/plain": [
              "(1.0, 1.0, 1.0, None)"
            ]
          },
          "execution_count": 12,
          "metadata": {},
          "output_type": "execute_result"
        }
      ],
      "source": [
        "from sklearn.metrics import accuracy_score\n",
        "from sklearn.metrics import precision_recall_fscore_support\n",
        "from sklearn.linear_model import LogisticRegression\n",
        "from sklearn.metrics import roc_auc_score\n",
        "\n",
        "clf = LogisticRegression(solver=\"liblinear\").fit(x_train, y_train)\n",
        "aucsvm = roc_auc_score(y_test, clf.predict_proba(x_test), multi_class='ovr')\n",
        "print(aucsvm)\n",
        "accsvm = accuracy_score(y_test,resultsvm)\n",
        "print(accsvm)\n",
        "\n",
        "precision_recall_fscore_support(y_test, resultsvm, average='macro')"
      ]
    },
    {
      "cell_type": "markdown",
      "metadata": {
        "id": "sdGOaVDJ_Hvt"
      },
      "source": [
        "# Değerlendirme Metrikleri : Accuracy, F-Measure, Precision, Recall, Sensitivity, AUC, Mattheww, Correlation Coefficent¶"
      ]
    },
    {
      "cell_type": "markdown",
      "metadata": {
        "id": "oZ_nu9Zf_MSG"
      },
      "source": [
        "#Deep Learning Ezberlemediğinin Grafiği"
      ]
    },
    {
      "cell_type": "code",
      "execution_count": null,
      "metadata": {
        "colab": {
          "base_uri": "https://localhost:8080/",
          "height": 265
        },
        "id": "TWedfdqDSdqg",
        "outputId": "186eb7da-ed72-410c-dfff-9e02d0a879e8"
      },
      "outputs": [],
      "source": [
        "import matplotlib.pyplot as plt\n",
        "fig,ax =plt.subplots(2,1)\n",
        "ax[0].plot(historymlp.history['loss'],color='b',label='Training loss')\n",
        "ax[0].plot(historymlp.history['val_loss'],color='r',label='Validation loss',axes=ax[0])\n",
        "legend=ax[0].legend(loc='best',shadow=True)\n",
        "\n",
        "ax[1].plot(historymlp.history['accuracy'],color='b',label='Training accuracy')\n",
        "ax[1].plot(historymlp.history['val_accuracy'],color='r',label='Validation accuracy')\n",
        "legend=ax[1].legend(loc='best',shadow=True)"
      ]
    },
    {
      "cell_type": "code",
      "execution_count": null,
      "metadata": {
        "colab": {
          "base_uri": "https://localhost:8080/",
          "height": 265
        },
        "id": "yoyu-BR9q7dz",
        "outputId": "2b28709e-1498-4029-b6f7-de5f9481ef43"
      },
      "outputs": [],
      "source": [
        "import matplotlib.pyplot as plt\n",
        "fig,ax =plt.subplots(2,1)\n",
        "ax[0].plot(historyrnn.history['loss'],color='b',label='Training loss')\n",
        "ax[0].plot(historyrnn.history['val_loss'],color='r',label='Validation loss',axes=ax[0])\n",
        "legend=ax[0].legend(loc='best',shadow=True)\n",
        "\n",
        "ax[1].plot(historyrnn.history['accuracy'],color='b',label='Training accuracy')\n",
        "ax[1].plot(historyrnn.history['val_accuracy'],color='r',label='Validation accuracy')\n",
        "legend=ax[1].legend(loc='best',shadow=True)"
      ]
    },
    {
      "cell_type": "code",
      "execution_count": null,
      "metadata": {
        "id": "5EFBqyp1Vt3q"
      },
      "outputs": [],
      "source": [
        "import matplotlib.pyplot as plt\n",
        "fig,ax =plt.subplots(2,1)\n",
        "ax[0].plot(historylstm.history['loss'],color='b',label='Training loss')\n",
        "ax[0].plot(historylstm.history['val_loss'],color='r',label='Validation loss',axes=ax[0])\n",
        "legend=ax[0].legend(loc='best',shadow=True)\n",
        "\n",
        "ax[1].plot(historylstm.history['accuracy'],color='b',label='Training accuracy')\n",
        "ax[1].plot(historylstm.history['val_accuracy'],color='r',label='Validation accuracy')\n",
        "legend=ax[1].legend(loc='best',shadow=True)"
      ]
    }
  ],
  "metadata": {
    "colab": {
      "collapsed_sections": [
        "cvQk0BFD8_8r",
        "FCEPb-doFkTB",
        "NlOy6M9eF7mp",
        "Gdu8J_fpGaus",
        "SZwkuHLbHHvD",
        "PGQ4Qe45H2Ws",
        "V7Q_kFlDIvhQ",
        "KFsD05WtIwRF",
        "q1uEzNJ6-pYL",
        "XFA9YL6b-2tU",
        "oZ_nu9Zf_MSG"
      ],
      "name": "Text_Mining_Project.ipynb",
      "provenance": [],
      "toc_visible": true
    },
    "kernelspec": {
      "display_name": "Python 3",
      "name": "python3"
    },
    "language_info": {
      "codemirror_mode": {
        "name": "ipython",
        "version": 3
      },
      "file_extension": ".py",
      "mimetype": "text/x-python",
      "name": "python",
      "nbconvert_exporter": "python",
      "pygments_lexer": "ipython3",
      "version": "3.11.3"
    }
  },
  "nbformat": 4,
  "nbformat_minor": 0
}
